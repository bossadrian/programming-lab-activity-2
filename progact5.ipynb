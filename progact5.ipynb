{
 "cells": [
  {
   "cell_type": "code",
   "execution_count": 1,
   "metadata": {},
   "outputs": [
    {
     "name": "stdout",
     "output_type": "stream",
     "text": [
      "baby kong isa dyan.\n",
      "You are a Senior.\n",
      "baby kong isa dyan.\n",
      "You are an Adult.\n",
      "You are a Teen.\n"
     ]
    }
   ],
   "source": [
    "def classify_age(age):\n",
    "    if age < 19:\n",
    "        print(\"baby kong isa dyan.\")\n",
    "    elif 0 <= age <= 12:\n",
    "        print(\"You are a Child.\")\n",
    "    elif 13 <= age <= 19:\n",
    "        print(\"You are a Teen.\")\n",
    "    elif 20 <= age <= 64:\n",
    "        print(\"You are an Adult.\")\n",
    "    else:\n",
    "        print(\"You are a Senior.\")\n",
    "\n",
    "#Test cases\n",
    "classify_age(8)    # \"You are a Child.\"\n",
    "classify_age(70)   # \"You are a Senior.\"\n",
    "classify_age(15)   # \"You are a Teen.\"\n",
    "classify_age(30)   # \"You are an Adult.\"\n",
    "classify_age(19)   # \"baby kong isa dyan."
   ]
  },
  {
   "cell_type": "code",
   "execution_count": null,
   "metadata": {},
   "outputs": [],
   "source": []
  }
 ],
 "metadata": {
  "kernelspec": {
   "display_name": "Python 3 (ipykernel)",
   "language": "python",
   "name": "python3"
  },
  "language_info": {
   "codemirror_mode": {
    "name": "ipython",
    "version": 3
   },
   "file_extension": ".py",
   "mimetype": "text/x-python",
   "name": "python",
   "nbconvert_exporter": "python",
   "pygments_lexer": "ipython3",
   "version": "3.11.0"
  }
 },
 "nbformat": 4,
 "nbformat_minor": 4
}
